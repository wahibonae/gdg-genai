{
 "cells": [
  {
   "cell_type": "markdown",
   "metadata": {},
   "source": [
    "## Intro Concepts: Prompt Templates\n",
    "### 1. Load the environment variables"
   ]
  },
  {
   "cell_type": "code",
   "execution_count": 1,
   "metadata": {},
   "outputs": [
    {
     "data": {
      "text/plain": [
       "True"
      ]
     },
     "execution_count": 1,
     "metadata": {},
     "output_type": "execute_result"
    }
   ],
   "source": [
    "from dotenv import load_dotenv\n",
    "\n",
    "load_dotenv()"
   ]
  },
  {
   "cell_type": "markdown",
   "metadata": {},
   "source": [
    "### 2. Types of Prompt Templates"
   ]
  },
  {
   "cell_type": "markdown",
   "metadata": {},
   "source": [
    "*\"Prompt templates help translate user input and parameters into instructions for a language model.\"* -- [Langchain's documentation](https://python.langchain.com/docs/concepts/prompt_templates/)\n",
    "\n",
    "**Input:** Dictionary where keys are variables in the prompt template which we need to fill.\n",
    "\n",
    "**Output:** A \"PromptValue\" that can be passed to an LLM or a ChatModel.\n"
   ]
  },
  {
   "cell_type": "markdown",
   "metadata": {},
   "source": [
    "#### 2.1 String PromptTemplates\n",
    "\"String PromptTemplates\" (aka \"PromptTemplate\" in code) is used to format one single string. It is used for simple inputs."
   ]
  },
  {
   "cell_type": "code",
   "execution_count": 6,
   "metadata": {},
   "outputs": [
    {
     "data": {
      "text/plain": [
       "StringPromptValue(text='What is your name? Mohammed')"
      ]
     },
     "execution_count": 6,
     "metadata": {},
     "output_type": "execute_result"
    }
   ],
   "source": [
    "from langchain_core.prompts import PromptTemplate\n",
    "\n",
    "prompt_template = PromptTemplate.from_template(\"What is your name? {name}\")\n",
    "\n",
    "prompt_template.invoke({\"name\": \"Mohammed\"})\n"
   ]
  },
  {
   "cell_type": "markdown",
   "metadata": {},
   "source": [
    "#### 2.2 ChatPromptTemplate\n",
    "\"ChatPromptTemplate\" is used to format a list of messages, where each message is a template itself."
   ]
  },
  {
   "cell_type": "code",
   "execution_count": 2,
   "metadata": {},
   "outputs": [
    {
     "data": {
      "text/plain": [
       "ChatPromptValue(messages=[SystemMessage(content='You are a helpful AI assistant.', additional_kwargs={}, response_metadata={}), HumanMessage(content='Give me a list of 5 fruits starting with the letter a.', additional_kwargs={}, response_metadata={})])"
      ]
     },
     "execution_count": 2,
     "metadata": {},
     "output_type": "execute_result"
    }
   ],
   "source": [
    "from langchain_core.prompts import ChatPromptTemplate\n",
    "\n",
    "prompt_template = ChatPromptTemplate([\n",
    "    (\"system\", \"You are a helpful AI assistant.\"),\n",
    "    (\"human\", \"Give me a list of 5 fruits starting with the letter {letter}.\")\n",
    "])\n",
    "\n",
    "prompt_template.invoke({\"letter\": \"a\"})"
   ]
  },
  {
   "cell_type": "markdown",
   "metadata": {},
   "source": [
    "### 3. EXAMPLE USAGE"
   ]
  },
  {
   "cell_type": "code",
   "execution_count": 3,
   "metadata": {},
   "outputs": [],
   "source": [
    "from langchain_core.prompts import ChatPromptTemplate\n",
    "\n",
    "system_prompt = \"\"\"\n",
    "You are an AI assistant for \"Evergreen Estates,\" a real estate agency specializing in residential and commercial properties.\n",
    "Your primary role is to assist customers by providing accurate information about the agency's opening hours.\n",
    "\n",
    "When responding to a query, do the following:\n",
    "\n",
    "    Greet the user courteously.\n",
    "    Confirm you are an assistant for Evergreen Estates.\n",
    "    Provide the current opening hours clearly, including details for special schedules (e.g., holidays).\n",
    "    If users ask about services beyond opening hours, politely redirect them to contact Evergreen Estates directly for further assistance.\n",
    "\n",
    "For example:\n",
    "User: \"What time are you open today?\"\n",
    "Assistant: \"Hello! This is Evergreen Estates. Our office is open today from 9:00 AM to 5:00 PM. If you have further inquiries, feel free to visit during these hours or contact us at [contact details].\"\n",
    "\n",
    "** Context:\n",
    "{context}\n",
    "\n",
    "** User Query:\n",
    "\"\"\""
   ]
  },
  {
   "cell_type": "code",
   "execution_count": 4,
   "metadata": {},
   "outputs": [],
   "source": [
    "prompt_template = ChatPromptTemplate.from_template(system_prompt)"
   ]
  },
  {
   "cell_type": "code",
   "execution_count": 5,
   "metadata": {},
   "outputs": [
    {
     "data": {
      "text/plain": [
       "ChatPromptValue(messages=[HumanMessage(content='\\nYou are an AI assistant for \"Evergreen Estates,\" a real estate agency specializing in residential and commercial properties.\\nYour primary role is to assist customers by providing accurate information about the agency\\'s opening hours.\\n\\nWhen responding to a query, do the following:\\n\\n    Greet the user courteously.\\n    Confirm you are an assistant for Evergreen Estates.\\n    Provide the current opening hours clearly, including details for special schedules (e.g., holidays).\\n    If users ask about services beyond opening hours, politely redirect them to contact Evergreen Estates directly for further assistance.\\n\\nFor example:\\nUser: \"What time are you open today?\"\\nAssistant: \"Hello! This is Evergreen Estates. Our office is open today from 9:00 AM to 5:00 PM. If you have further inquiries, feel free to visit during these hours or contact us at [contact details].\"\\n\\n** Context:\\nThe office is open from 9:00 AM to 5:00 PM, Monday to Friday. We are closed on weekends and public holidays.\\n\\n** User Query:\\n', additional_kwargs={}, response_metadata={})])"
      ]
     },
     "execution_count": 5,
     "metadata": {},
     "output_type": "execute_result"
    }
   ],
   "source": [
    "context = \"The office is open from 9:00 AM to 5:00 PM, Monday to Friday. We are closed on weekends and public holidays.\"\n",
    "\n",
    "prompt_template.invoke({\"context\": context})"
   ]
  },
  {
   "cell_type": "code",
   "execution_count": null,
   "metadata": {},
   "outputs": [],
   "source": []
  }
 ],
 "metadata": {
  "kernelspec": {
   "display_name": "venv",
   "language": "python",
   "name": "python3"
  },
  "language_info": {
   "codemirror_mode": {
    "name": "ipython",
    "version": 3
   },
   "file_extension": ".py",
   "mimetype": "text/x-python",
   "name": "python",
   "nbconvert_exporter": "python",
   "pygments_lexer": "ipython3",
   "version": "3.12.7"
  }
 },
 "nbformat": 4,
 "nbformat_minor": 2
}
