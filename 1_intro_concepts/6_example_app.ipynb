{
 "cells": [
  {
   "cell_type": "markdown",
   "metadata": {},
   "source": [
    "## Build a simple LLM app using LLMs and Prompt Templates\n",
    "### 1. Load the environment variables"
   ]
  },
  {
   "cell_type": "code",
   "execution_count": 1,
   "metadata": {},
   "outputs": [
    {
     "data": {
      "text/plain": [
       "True"
      ]
     },
     "execution_count": 1,
     "metadata": {},
     "output_type": "execute_result"
    }
   ],
   "source": [
    "from dotenv import load_dotenv\n",
    "\n",
    "load_dotenv()"
   ]
  },
  {
   "cell_type": "markdown",
   "metadata": {},
   "source": [
    "### 2. Create a ChatOpenAI instance"
   ]
  },
  {
   "cell_type": "code",
   "execution_count": 3,
   "metadata": {},
   "outputs": [],
   "source": [
    "from langchain_openai import ChatOpenAI\n",
    "\n",
    "model = ChatOpenAI(model=\"gpt-3.5-turbo\")"
   ]
  },
  {
   "cell_type": "markdown",
   "metadata": {},
   "source": [
    "### 3. Define prompt templates"
   ]
  },
  {
   "cell_type": "code",
   "execution_count": 5,
   "metadata": {},
   "outputs": [],
   "source": [
    "from langchain_core.prompts import ChatPromptTemplate\n",
    "\n",
    "system_template = \"\"\"You are an expert software developer who helps explain code to others.\n",
    "Given a code snippet, analyze it and explain:\n",
    "1. What the code does in simple terms\n",
    "2. Key concepts and patterns used\n",
    "3. Potential issues or improvements to consider\n",
    "\n",
    "Code to analyze: {code}\"\"\"\n",
    "\n",
    "prompt_template = ChatPromptTemplate.from_messages([\n",
    "    (\"system\", system_template),\n",
    "    (\"user\", \"User query: {user_query}\")\n",
    "])"
   ]
  },
  {
   "cell_type": "code",
   "execution_count": 6,
   "metadata": {},
   "outputs": [
    {
     "data": {
      "text/plain": [
       "[SystemMessage(content=\"You are an expert software developer who helps explain code to others.\\nGiven a code snippet, analyze it and explain:\\n1. What the code does in simple terms\\n2. Key concepts and patterns used\\n3. Potential issues or improvements to consider\\n\\nCode to analyze: print('Hello, World!')\", additional_kwargs={}, response_metadata={}),\n",
       " HumanMessage(content='User query: Please analyze this code and help me understand it better.', additional_kwargs={}, response_metadata={})]"
      ]
     },
     "execution_count": 6,
     "metadata": {},
     "output_type": "execute_result"
    }
   ],
   "source": [
    "user_query = \"Please analyze this code and help me understand it better.\"\n",
    "\n",
    "code = \"print('Hello, World!')\"\n",
    "\n",
    "prompt = prompt_template.invoke({\"code\": code, \"user_query\": user_query})\n",
    "\n",
    "prompt.to_messages()"
   ]
  },
  {
   "cell_type": "code",
   "execution_count": 8,
   "metadata": {},
   "outputs": [
    {
     "data": {
      "text/plain": [
       "'Sure! The code `print(\\'Hello, World!\\')` is a simple Python statement that prints the text \"Hello, World!\" to the console when executed.\\n\\n1. **What the code does**: This code simply displays the message \"Hello, World!\" on the screen.\\n\\n2. **Key concepts and patterns used**:\\n   - `print()`: This is a built-in Python function used to output text or variables to the console.\\n   - `\\'Hello, World!\\'`: This is a string literal, which is a sequence of characters enclosed in single or double quotes.\\n   \\n3. **Potential issues or improvements to consider**:\\n   - This code is straightforward and doesn\\'t have any issues. However, in more complex programs, it\\'s important to ensure proper error handling, input validation, and code organization.\\n   - If you want to print a variable with the message, you can use string formatting or concatenation within the `print()` function.\\n   - For larger programs, consider using functions, classes, or modules to organize your code effectively.'"
      ]
     },
     "execution_count": 8,
     "metadata": {},
     "output_type": "execute_result"
    }
   ],
   "source": [
    "from langchain_core.output_parsers import StrOutputParser\n",
    "\n",
    "chain = prompt_template | model | StrOutputParser()\n",
    "\n",
    "result = chain.invoke({\"code\": code, \"user_query\": user_query})\n",
    "\n",
    "result"
   ]
  },
  {
   "cell_type": "code",
   "execution_count": null,
   "metadata": {},
   "outputs": [],
   "source": []
  }
 ],
 "metadata": {
  "kernelspec": {
   "display_name": "venv",
   "language": "python",
   "name": "python3"
  },
  "language_info": {
   "codemirror_mode": {
    "name": "ipython",
    "version": 3
   },
   "file_extension": ".py",
   "mimetype": "text/x-python",
   "name": "python",
   "nbconvert_exporter": "python",
   "pygments_lexer": "ipython3",
   "version": "3.12.7"
  }
 },
 "nbformat": 4,
 "nbformat_minor": 2
}
